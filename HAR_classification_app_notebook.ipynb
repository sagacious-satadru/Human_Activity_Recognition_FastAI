{
 "cells": [
  {
   "cell_type": "code",
   "execution_count": 1,
   "id": "6f1b6b19",
   "metadata": {},
   "outputs": [],
   "source": [
    "#hide\n",
    "# ! [ -e /content ] && pip install -Uqq fastbook\n",
    "import fastbook\n",
    "fastbook.setup_book()"
   ]
  },
  {
   "cell_type": "code",
   "execution_count": 2,
   "id": "26cd1c4a",
   "metadata": {},
   "outputs": [],
   "source": [
    "#hide\n",
    "from fastbook import *\n",
    "from fastai.vision.widgets import *"
   ]
  },
  {
   "cell_type": "code",
   "execution_count": 3,
   "id": "f4eb5d7e",
   "metadata": {},
   "outputs": [],
   "source": [
    "import numpy as np\n",
    "import matplotlib.pyplot as plt\n",
    "import pandas as pd\n",
    "import seaborn as sns\n",
    "import os\n",
    "import torch"
   ]
  },
  {
   "cell_type": "markdown",
   "id": "afd302cc",
   "metadata": {},
   "source": [
    "## Creating a button to upload an image depicting some human activity"
   ]
  },
  {
   "cell_type": "code",
   "execution_count": 13,
   "id": "50667722",
   "metadata": {},
   "outputs": [
    {
     "data": {
      "application/vnd.jupyter.widget-view+json": {
       "model_id": "a52e077852d3485eb6c0a89ae2acc56b",
       "version_major": 2,
       "version_minor": 0
      },
      "text/plain": [
       "FileUpload(value={}, description='Upload')"
      ]
     },
     "metadata": {},
     "output_type": "display_data"
    }
   ],
   "source": [
    "#hide_output\n",
    "btn_upload = widgets.FileUpload()\n",
    "btn_upload"
   ]
  },
  {
   "cell_type": "code",
   "execution_count": 5,
   "id": "f7b6128d",
   "metadata": {},
   "outputs": [
    {
     "data": {
      "text/plain": [
       "(#1) [Path('model.pkl')]"
      ]
     },
     "execution_count": 5,
     "metadata": {},
     "output_type": "execute_result"
    }
   ],
   "source": [
    "# Checking for the existence of .pkl files in the current directory (since our trained model is also of the format .pkl)\n",
    "path = Path()\n",
    "path.ls(file_exts='.pkl')"
   ]
  },
  {
   "cell_type": "code",
   "execution_count": 6,
   "id": "f7e1fce1",
   "metadata": {},
   "outputs": [],
   "source": [
    "learn_inf = load_learner(path/'model.pkl')"
   ]
  },
  {
   "cell_type": "code",
   "execution_count": 7,
   "id": "3c2bedad",
   "metadata": {},
   "outputs": [
    {
     "data": {
      "text/html": [
       "\n",
       "<style>\n",
       "    /* Turns off some styling */\n",
       "    progress {\n",
       "        /* gets rid of default border in Firefox and Opera. */\n",
       "        border: none;\n",
       "        /* Needs to be in here for Safari polyfill so background images work as expected. */\n",
       "        background-size: auto;\n",
       "    }\n",
       "    progress:not([value]), progress:not([value])::-webkit-progress-bar {\n",
       "        background: repeating-linear-gradient(45deg, #7e7e7e, #7e7e7e 10px, #5c5c5c 10px, #5c5c5c 20px);\n",
       "    }\n",
       "    .progress-bar-interrupted, .progress-bar-interrupted::-webkit-progress-bar {\n",
       "        background: #F44336;\n",
       "    }\n",
       "</style>\n"
      ],
      "text/plain": [
       "<IPython.core.display.HTML object>"
      ]
     },
     "metadata": {},
     "output_type": "display_data"
    },
    {
     "data": {
      "text/html": [],
      "text/plain": [
       "<IPython.core.display.HTML object>"
      ]
     },
     "metadata": {},
     "output_type": "display_data"
    },
    {
     "data": {
      "text/plain": [
       "('person sitting',\n",
       " tensor(10),\n",
       " tensor([6.2269e-08, 8.1419e-09, 1.3913e-06, 9.4430e-09, 2.7182e-06, 5.0359e-06, 9.9700e-09, 4.1634e-07, 1.1528e-07, 3.2591e-08, 9.9998e-01, 1.8061e-06, 1.4153e-06, 6.3347e-06, 1.7168e-08]))"
      ]
     },
     "execution_count": 7,
     "metadata": {},
     "output_type": "execute_result"
    }
   ],
   "source": [
    "# Predicitng the label of an image using the trained model\n",
    "learn_inf.predict('images/sitting.jpg')"
   ]
  },
  {
   "cell_type": "code",
   "execution_count": 8,
   "id": "88847482",
   "metadata": {},
   "outputs": [
    {
     "name": "stdout",
     "output_type": "stream",
     "text": [
      "person sitting: 0.99998\n",
      "sleeping: 0.00001\n",
      "hugging: 0.00001\n",
      "fighting: 0.00000\n",
      "person using laptop: 0.00000\n",
      "running: 0.00000\n",
      "dancing: 0.00000\n",
      "listening to music: 0.00000\n",
      "person clapping: 0.00000\n",
      "calling: 0.00000\n",
      "person drinking: 0.00000\n",
      "texting: 0.00000\n",
      "laughing: 0.00000\n",
      "eating: 0.00000\n",
      "cycling: 0.00000\n"
     ]
    }
   ],
   "source": [
    "# Output from the prediction\n",
    "prediction = ('person sitting', tensor(10), tensor([6.2269e-08, 8.1419e-09, 1.3913e-06, 9.4430e-09, 2.7182e-06, 5.0359e-06, 9.9700e-09, 4.1634e-07, 1.1528e-07, 3.2591e-08, 9.9998e-01, 1.8061e-06, 1.4153e-06, 6.3347e-06, 1.7168e-08]))\n",
    "\n",
    "# Unpack the prediction output\n",
    "predicted_label, predicted_class_idx, probabilities = prediction\n",
    "\n",
    "# Convert tensor to a list of probabilities\n",
    "probs_list = probabilities.tolist()\n",
    "\n",
    "# Create a list of (label, probability) pairs\n",
    "label_prob_pairs = list(zip(learn_inf.dls.vocab, probs_list))\n",
    "\n",
    "# Sort the list in descending order of probabilities\n",
    "sorted_label_prob_pairs = sorted(label_prob_pairs, key=lambda x: x[1], reverse=True)\n",
    "\n",
    "# Display the sorted predictions in a nicer format\n",
    "for label, probability in sorted_label_prob_pairs:\n",
    "    print(f\"{label}: {probability:.5f}\")\n"
   ]
  },
  {
   "cell_type": "code",
   "execution_count": 9,
   "id": "e1ecc973",
   "metadata": {},
   "outputs": [
    {
     "name": "stdout",
     "output_type": "stream",
     "text": [
      "['calling', 'cycling', 'dancing', 'eating', 'fighting', 'hugging', 'laughing', 'listening to music', 'person clapping', 'person drinking', 'person sitting', 'person using laptop', 'running', 'sleeping', 'texting']\n",
      "<class 'fastai.data.transforms.CategoryMap'>\n"
     ]
    }
   ],
   "source": [
    "# Taking a look at the different human activity labels that the model has learned to classify\n",
    "human_act_labels = learn_inf.dls.vocab\n",
    "print(human_act_labels)\n",
    "print(type(human_act_labels))"
   ]
  },
  {
   "cell_type": "code",
   "execution_count": 10,
   "id": "69ac69ee",
   "metadata": {},
   "outputs": [
    {
     "data": {
      "image/png": "[encoded data removed]",
      "text/plain": [
       "<Figure size 720x432 with 1 Axes>"
      ]
     },
     "metadata": {
      "needs_background": "light"
     },
     "output_type": "display_data"
    }
   ],
   "source": [
    "# import matplotlib.pyplot as plt\n",
    "\n",
    "# Output from the prediction\n",
    "prediction = ('person sitting', tensor(10), tensor([6.2269e-08, 8.1419e-09, 1.3913e-06, 9.4430e-09, 2.7182e-06, 5.0359e-06, 9.9700e-09, 4.1634e-07, 1.1528e-07, 3.2591e-08, 9.9998e-01, 1.8061e-06, 1.4153e-06, 6.3347e-06, 1.7168e-08]))\n",
    "\n",
    "# Unpack the prediction output\n",
    "predicted_label, predicted_class_idx, probabilities = prediction\n",
    "\n",
    "# Convert tensor to a list of probabilities\n",
    "probs_list = probabilities.tolist()\n",
    "\n",
    "# Create a list of labels\n",
    "labels = learn_inf.dls.vocab\n",
    "\n",
    "# Plot the horizontal bar plot\n",
    "plt.figure(figsize=(10, 6))\n",
    "plt.barh(labels, probs_list, color='skyblue')\n",
    "plt.xlabel('Probability')\n",
    "plt.ylabel('Predicted Label')\n",
    "plt.title('Predicted Probabilities')\n",
    "plt.gca().invert_yaxis()  # Invert the y-axis to display labels from top to bottom\n",
    "plt.show()\n"
   ]
  },
  {
   "cell_type": "code",
   "execution_count": 15,
   "id": "6db1b464",
   "metadata": {},
   "outputs": [],
   "source": [
    "# Make sure that atleast one image is uploaded before running this cell\n",
    "if not btn_upload.data:\n",
    "    print(\"Please upload an image first.\")\n",
    "else:\n",
    "    img = PILImage.create(btn_upload.data[-1])\n",
    "    # We can continue with the rest of the code to process the image.\n",
    "    \n"
   ]
  },
  {
   "cell_type": "code",
   "execution_count": 16,
   "id": "4efde6c0",
   "metadata": {},
   "outputs": [
    {
     "data": {
      "application/vnd.jupyter.widget-view+json": {
       "model_id": "0e82bda93905434692aeeb32a86605b7",
       "version_major": 2,
       "version_minor": 0
      },
      "text/plain": [
       "Output()"
      ]
     },
     "metadata": {},
     "output_type": "display_data"
    }
   ],
   "source": [
    "# Displaying the image we uploaded using the button widget\n",
    "#hide_output\n",
    "out_pl = widgets.Output()\n",
    "out_pl.clear_output()\n",
    "with out_pl: display(img.to_thumb(128,128))\n",
    "out_pl"
   ]
  },
  {
   "cell_type": "code",
   "execution_count": 17,
   "id": "692aa2dc",
   "metadata": {},
   "outputs": [
    {
     "data": {
      "text/html": [
       "\n",
       "<style>\n",
       "    /* Turns off some styling */\n",
       "    progress {\n",
       "        /* gets rid of default border in Firefox and Opera. */\n",
       "        border: none;\n",
       "        /* Needs to be in here for Safari polyfill so background images work as expected. */\n",
       "        background-size: auto;\n",
       "    }\n",
       "    progress:not([value]), progress:not([value])::-webkit-progress-bar {\n",
       "        background: repeating-linear-gradient(45deg, #7e7e7e, #7e7e7e 10px, #5c5c5c 10px, #5c5c5c 20px);\n",
       "    }\n",
       "    .progress-bar-interrupted, .progress-bar-interrupted::-webkit-progress-bar {\n",
       "        background: #F44336;\n",
       "    }\n",
       "</style>\n"
      ],
      "text/plain": [
       "<IPython.core.display.HTML object>"
      ]
     },
     "metadata": {},
     "output_type": "display_data"
    },
    {
     "data": {
      "text/html": [],
      "text/plain": [
       "<IPython.core.display.HTML object>"
      ]
     },
     "metadata": {},
     "output_type": "display_data"
    }
   ],
   "source": [
    "# Then we get our predictions for the uploaded image:\n",
    "pred,pred_idx,probs = learn_inf.predict(img)"
   ]
  },
  {
   "cell_type": "code",
   "execution_count": 18,
   "id": "8512fea3",
   "metadata": {},
   "outputs": [
    {
     "data": {
      "application/vnd.jupyter.widget-view+json": {
       "model_id": "5975434b91234c149bc9a0c9a71e4b39",
       "version_major": 2,
       "version_minor": 0
      },
      "text/plain": [
       "Label(value='Prediction: running; Probability: 0.9955')"
      ]
     },
     "metadata": {},
     "output_type": "display_data"
    }
   ],
   "source": [
    "# We can use a `Label` to display our prediction\n",
    "#hide_output\n",
    "lbl_pred = widgets.Label()\n",
    "lbl_pred.value = f'Prediction: {pred}; Probability: {probs[pred_idx]:.04f}'\n",
    "lbl_pred"
   ]
  },
  {
   "cell_type": "code",
   "execution_count": 19,
   "id": "fcf257be",
   "metadata": {},
   "outputs": [
    {
     "data": {
      "application/vnd.jupyter.widget-view+json": {
       "model_id": "1a1313195e474422bae4f009804f36e5",
       "version_major": 2,
       "version_minor": 0
      },
      "text/plain": [
       "Button(description='Classify', style=ButtonStyle())"
      ]
     },
     "metadata": {},
     "output_type": "display_data"
    }
   ],
   "source": [
    "#hide_output\n",
    "btn_run = widgets.Button(description='Classify')\n",
    "btn_run"
   ]
  },
  {
   "cell_type": "code",
   "execution_count": 30,
   "id": "cfddb8ab",
   "metadata": {},
   "outputs": [],
   "source": [
    "output_probs = widgets.Output()\n"
   ]
  },
  {
   "cell_type": "code",
   "execution_count": 31,
   "id": "37f450c5",
   "metadata": {},
   "outputs": [],
   "source": [
    "# def on_click_classify(change):\n",
    "#     img = PILImage.create(btn_upload.data[-1])\n",
    "#     out_pl.clear_output()\n",
    "#     with out_pl: display(img.to_thumb(128,128))\n",
    "#     pred,pred_idx,probs = learn_inf.predict(img)\n",
    "#     lbl_pred.value = f'Prediction: {pred}; Probability: {probs[pred_idx]:.04f}'\n",
    "\n",
    "# def on_click_classify(change):\n",
    "#     if not btn_upload.data:\n",
    "#         print(\"Please upload an image first.\")\n",
    "#         return\n",
    "\n",
    "#     img = PILImage.create(btn_upload.data[-1])\n",
    "#     out_pl.clear_output()\n",
    "#     with out_pl: display(img.to_thumb(128,128))\n",
    "#     pred, pred_idx, probs = learn_inf.predict(img)\n",
    "#     lbl_pred.value = f'Prediction: {pred}; Probability: {probs[pred_idx]:.04f}'\n",
    "\n",
    "def on_click_classify(change):\n",
    "    if not btn_upload.data:\n",
    "        print(\"Please upload an image first.\")\n",
    "        return\n",
    "    img = PILImage.create(btn_upload.data[-1])\n",
    "    out_pl.clear_output()\n",
    "    with out_pl: display(img.to_thumb(128, 128))\n",
    "    pred, pred_idx, probs = learn_inf.predict(img)\n",
    "    lbl_pred.value = f'Prediction: {pred}; Probability: {probs[pred_idx]:.04f}'\n",
    "    \n",
    "    # Display the predicted probabilities in descending order\n",
    "    output_probs.clear_output()\n",
    "    with output_probs:\n",
    "        sorted_probs = sorted(zip(learn_inf.dls.vocab, probs.tolist()), key=lambda x: x[1], reverse=True)\n",
    "        for label, prob in sorted_probs:\n",
    "            print(f'{label}: {prob:.04f}')\n",
    "\n",
    "\n",
    "btn_run.on_click(on_click_classify)"
   ]
  },
  {
   "cell_type": "code",
   "execution_count": 32,
   "id": "06466160",
   "metadata": {},
   "outputs": [],
   "source": [
    "#hide\n",
    "#Putting back btn_upload to a widget for next cell\n",
    "btn_upload = widgets.FileUpload()"
   ]
  },
  {
   "cell_type": "code",
   "execution_count": 34,
   "id": "0fba19da",
   "metadata": {},
   "outputs": [
    {
     "data": {
      "application/vnd.jupyter.widget-view+json": {
       "model_id": "86f270cfc14f4ed6aff3c135b45a2553",
       "version_major": 2,
       "version_minor": 0
      },
      "text/plain": [
       "VBox(children=(Label(value='Select your human activity pic!'), FileUpload(value={'people_drinking_har.jpg': {'…"
      ]
     },
     "metadata": {},
     "output_type": "display_data"
    },
    {
     "data": {
      "text/html": [
       "\n",
       "<style>\n",
       "    /* Turns off some styling */\n",
       "    progress {\n",
       "        /* gets rid of default border in Firefox and Opera. */\n",
       "        border: none;\n",
       "        /* Needs to be in here for Safari polyfill so background images work as expected. */\n",
       "        background-size: auto;\n",
       "    }\n",
       "    progress:not([value]), progress:not([value])::-webkit-progress-bar {\n",
       "        background: repeating-linear-gradient(45deg, #7e7e7e, #7e7e7e 10px, #5c5c5c 10px, #5c5c5c 20px);\n",
       "    }\n",
       "    .progress-bar-interrupted, .progress-bar-interrupted::-webkit-progress-bar {\n",
       "        background: #F44336;\n",
       "    }\n",
       "</style>\n"
      ],
      "text/plain": [
       "<IPython.core.display.HTML object>"
      ]
     },
     "metadata": {},
     "output_type": "display_data"
    },
    {
     "data": {
      "text/html": [],
      "text/plain": [
       "<IPython.core.display.HTML object>"
      ]
     },
     "metadata": {},
     "output_type": "display_data"
    },
    {
     "data": {
      "text/html": [
       "\n",
       "<style>\n",
       "    /* Turns off some styling */\n",
       "    progress {\n",
       "        /* gets rid of default border in Firefox and Opera. */\n",
       "        border: none;\n",
       "        /* Needs to be in here for Safari polyfill so background images work as expected. */\n",
       "        background-size: auto;\n",
       "    }\n",
       "    progress:not([value]), progress:not([value])::-webkit-progress-bar {\n",
       "        background: repeating-linear-gradient(45deg, #7e7e7e, #7e7e7e 10px, #5c5c5c 10px, #5c5c5c 20px);\n",
       "    }\n",
       "    .progress-bar-interrupted, .progress-bar-interrupted::-webkit-progress-bar {\n",
       "        background: #F44336;\n",
       "    }\n",
       "</style>\n"
      ],
      "text/plain": [
       "<IPython.core.display.HTML object>"
      ]
     },
     "metadata": {},
     "output_type": "display_data"
    },
    {
     "data": {
      "text/html": [],
      "text/plain": [
       "<IPython.core.display.HTML object>"
      ]
     },
     "metadata": {},
     "output_type": "display_data"
    },
    {
     "data": {
      "text/html": [
       "\n",
       "<style>\n",
       "    /* Turns off some styling */\n",
       "    progress {\n",
       "        /* gets rid of default border in Firefox and Opera. */\n",
       "        border: none;\n",
       "        /* Needs to be in here for Safari polyfill so background images work as expected. */\n",
       "        background-size: auto;\n",
       "    }\n",
       "    progress:not([value]), progress:not([value])::-webkit-progress-bar {\n",
       "        background: repeating-linear-gradient(45deg, #7e7e7e, #7e7e7e 10px, #5c5c5c 10px, #5c5c5c 20px);\n",
       "    }\n",
       "    .progress-bar-interrupted, .progress-bar-interrupted::-webkit-progress-bar {\n",
       "        background: #F44336;\n",
       "    }\n",
       "</style>\n"
      ],
      "text/plain": [
       "<IPython.core.display.HTML object>"
      ]
     },
     "metadata": {},
     "output_type": "display_data"
    },
    {
     "data": {
      "text/html": [],
      "text/plain": [
       "<IPython.core.display.HTML object>"
      ]
     },
     "metadata": {},
     "output_type": "display_data"
    },
    {
     "data": {
      "text/html": [
       "\n",
       "<style>\n",
       "    /* Turns off some styling */\n",
       "    progress {\n",
       "        /* gets rid of default border in Firefox and Opera. */\n",
       "        border: none;\n",
       "        /* Needs to be in here for Safari polyfill so background images work as expected. */\n",
       "        background-size: auto;\n",
       "    }\n",
       "    progress:not([value]), progress:not([value])::-webkit-progress-bar {\n",
       "        background: repeating-linear-gradient(45deg, #7e7e7e, #7e7e7e 10px, #5c5c5c 10px, #5c5c5c 20px);\n",
       "    }\n",
       "    .progress-bar-interrupted, .progress-bar-interrupted::-webkit-progress-bar {\n",
       "        background: #F44336;\n",
       "    }\n",
       "</style>\n"
      ],
      "text/plain": [
       "<IPython.core.display.HTML object>"
      ]
     },
     "metadata": {},
     "output_type": "display_data"
    },
    {
     "data": {
      "text/html": [],
      "text/plain": [
       "<IPython.core.display.HTML object>"
      ]
     },
     "metadata": {},
     "output_type": "display_data"
    }
   ],
   "source": [
    "# #hide_output\n",
    "# VBox([widgets.Label('Select your human activity pic!'),\n",
    "#       btn_upload, btn_run, out_pl, lbl_pred])\n",
    "#hide_output\n",
    "VBox([widgets.Label('Select your human activity pic!'),\n",
    "      btn_upload, btn_run, out_pl, lbl_pred, output_probs])\n"
   ]
  },
  {
   "cell_type": "code",
   "execution_count": 35,
   "id": "d50a485f",
   "metadata": {},
   "outputs": [
    {
     "name": "stdout",
     "output_type": "stream",
     "text": [
      "Requirement already satisfied: voila in c:\\users\\fcbsa\\anaconda3\\lib\\site-packages (0.4.3)\n",
      "Requirement already satisfied: jupyter-server<3,>=1.18 in c:\\users\\fcbsa\\anaconda3\\lib\\site-packages (from voila) (1.24.0)\n",
      "Requirement already satisfied: traitlets<6,>=5.0.3 in c:\\users\\fcbsa\\anaconda3\\lib\\site-packages (from voila) (5.9.0)\n",
      "Requirement already satisfied: nbconvert<8,>=6.4.5 in c:\\users\\fcbsa\\anaconda3\\lib\\site-packages (from voila) (7.7.3)\n",
      "Requirement already satisfied: nbclient<0.8,>=0.4.0 in c:\\users\\fcbsa\\anaconda3\\lib\\site-packages (from voila) (0.5.13)\n",
      "Requirement already satisfied: jupyter-core>=4.11.0 in c:\\users\\fcbsa\\anaconda3\\lib\\site-packages (from voila) (5.3.1)\n",
      "Requirement already satisfied: websockets>=9.0 in c:\\users\\fcbsa\\anaconda3\\lib\\site-packages (from voila) (10.4)\n",
      "Requirement already satisfied: jupyter-client<9,>=6.1.3 in c:\\users\\fcbsa\\anaconda3\\lib\\site-packages (from voila) (8.3.0)\n",
      "Requirement already satisfied: jupyterlab-server<3,>=2.3.0 in c:\\users\\fcbsa\\anaconda3\\lib\\site-packages (from voila) (2.10.3)\n",
      "Requirement already satisfied: pyzmq>=23.0 in c:\\users\\fcbsa\\anaconda3\\lib\\site-packages (from jupyter-client<9,>=6.1.3->voila) (25.1.0)\n",
      "Requirement already satisfied: python-dateutil>=2.8.2 in c:\\users\\fcbsa\\anaconda3\\lib\\site-packages (from jupyter-client<9,>=6.1.3->voila) (2.8.2)\n",
      "Requirement already satisfied: importlib-metadata>=4.8.3 in c:\\users\\fcbsa\\anaconda3\\lib\\site-packages (from jupyter-client<9,>=6.1.3->voila) (4.11.3)\n",
      "Requirement already satisfied: tornado>=6.2 in c:\\users\\fcbsa\\anaconda3\\lib\\site-packages (from jupyter-client<9,>=6.1.3->voila) (6.3.2)\n",
      "Requirement already satisfied: zipp>=0.5 in c:\\users\\fcbsa\\anaconda3\\lib\\site-packages (from importlib-metadata>=4.8.3->jupyter-client<9,>=6.1.3->voila) (3.7.0)\n",
      "Requirement already satisfied: pywin32>=300 in c:\\users\\fcbsa\\anaconda3\\lib\\site-packages (from jupyter-core>=4.11.0->voila) (302)\n",
      "Requirement already satisfied: platformdirs>=2.5 in c:\\users\\fcbsa\\anaconda3\\lib\\site-packages (from jupyter-core>=4.11.0->voila) (3.10.0)\n",
      "Requirement already satisfied: websocket-client in c:\\users\\fcbsa\\anaconda3\\lib\\site-packages (from jupyter-server<3,>=1.18->voila) (0.58.0)\n",
      "Requirement already satisfied: Send2Trash in c:\\users\\fcbsa\\anaconda3\\lib\\site-packages (from jupyter-server<3,>=1.18->voila) (1.8.0)\n",
      "Requirement already satisfied: nbformat>=5.2.0 in c:\\users\\fcbsa\\anaconda3\\lib\\site-packages (from jupyter-server<3,>=1.18->voila) (5.9.2)\n",
      "Requirement already satisfied: argon2-cffi in c:\\users\\fcbsa\\anaconda3\\lib\\site-packages (from jupyter-server<3,>=1.18->voila) (21.3.0)\n",
      "Requirement already satisfied: prometheus-client in c:\\users\\fcbsa\\anaconda3\\lib\\site-packages (from jupyter-server<3,>=1.18->voila) (0.13.1)\n",
      "Requirement already satisfied: packaging in c:\\users\\fcbsa\\anaconda3\\lib\\site-packages (from jupyter-server<3,>=1.18->voila) (21.3)\n",
      "Requirement already satisfied: terminado>=0.8.3 in c:\\users\\fcbsa\\anaconda3\\lib\\site-packages (from jupyter-server<3,>=1.18->voila) (0.13.1)\n",
      "Requirement already satisfied: anyio<4,>=3.1.0 in c:\\users\\fcbsa\\anaconda3\\lib\\site-packages (from jupyter-server<3,>=1.18->voila) (3.5.0)\n",
      "Requirement already satisfied: pywinpty in c:\\users\\fcbsa\\anaconda3\\lib\\site-packages (from jupyter-server<3,>=1.18->voila) (2.0.11)\n",
      "Requirement already satisfied: jinja2 in c:\\users\\fcbsa\\anaconda3\\lib\\site-packages (from jupyter-server<3,>=1.18->voila) (3.1.2)\n",
      "Requirement already satisfied: idna>=2.8 in c:\\users\\fcbsa\\anaconda3\\lib\\site-packages (from anyio<4,>=3.1.0->jupyter-server<3,>=1.18->voila) (3.3)\n",
      "Requirement already satisfied: sniffio>=1.1 in c:\\users\\fcbsa\\anaconda3\\lib\\site-packages (from anyio<4,>=3.1.0->jupyter-server<3,>=1.18->voila) (1.2.0)\n",
      "Requirement already satisfied: json5 in c:\\users\\fcbsa\\anaconda3\\lib\\site-packages (from jupyterlab-server<3,>=2.3.0->voila) (0.9.6)\n",
      "Requirement already satisfied: requests in c:\\users\\fcbsa\\anaconda3\\lib\\site-packages (from jupyterlab-server<3,>=2.3.0->voila) (2.27.1)\n",
      "Requirement already satisfied: babel in c:\\users\\fcbsa\\anaconda3\\lib\\site-packages (from jupyterlab-server<3,>=2.3.0->voila) (2.9.1)\n",
      "Requirement already satisfied: entrypoints>=0.2.2 in c:\\users\\fcbsa\\anaconda3\\lib\\site-packages (from jupyterlab-server<3,>=2.3.0->voila) (0.4)\n",
      "Requirement already satisfied: jsonschema>=3.0.1 in c:\\users\\fcbsa\\anaconda3\\lib\\site-packages (from jupyterlab-server<3,>=2.3.0->voila) (4.18.4)\n",
      "Requirement already satisfied: MarkupSafe>=2.0 in c:\\users\\fcbsa\\anaconda3\\lib\\site-packages (from jinja2->jupyter-server<3,>=1.18->voila) (2.0.1)\n",
      "Requirement already satisfied: rpds-py>=0.7.1 in c:\\users\\fcbsa\\anaconda3\\lib\\site-packages (from jsonschema>=3.0.1->jupyterlab-server<3,>=2.3.0->voila) (0.9.2)\n",
      "Requirement already satisfied: referencing>=0.28.4 in c:\\users\\fcbsa\\anaconda3\\lib\\site-packages (from jsonschema>=3.0.1->jupyterlab-server<3,>=2.3.0->voila) (0.30.0)\n",
      "Requirement already satisfied: attrs>=22.2.0 in c:\\users\\fcbsa\\anaconda3\\lib\\site-packages (from jsonschema>=3.0.1->jupyterlab-server<3,>=2.3.0->voila) (23.1.0)\n",
      "Requirement already satisfied: jsonschema-specifications>=2023.03.6 in c:\\users\\fcbsa\\anaconda3\\lib\\site-packages (from jsonschema>=3.0.1->jupyterlab-server<3,>=2.3.0->voila) (2023.7.1)\n",
      "Requirement already satisfied: nest-asyncio in c:\\users\\fcbsa\\anaconda3\\lib\\site-packages (from nbclient<0.8,>=0.4.0->voila) (1.5.5)\n",
      "Requirement already satisfied: jupyterlab-pygments in c:\\users\\fcbsa\\anaconda3\\lib\\site-packages (from nbconvert<8,>=6.4.5->voila) (0.1.2)\n",
      "Requirement already satisfied: bleach!=5.0.0 in c:\\users\\fcbsa\\anaconda3\\lib\\site-packages (from nbconvert<8,>=6.4.5->voila) (4.1.0)\n",
      "Requirement already satisfied: mistune<4,>=2.0.3 in c:\\users\\fcbsa\\anaconda3\\lib\\site-packages (from nbconvert<8,>=6.4.5->voila) (3.0.1)\n",
      "Requirement already satisfied: pygments>=2.4.1 in c:\\users\\fcbsa\\anaconda3\\lib\\site-packages (from nbconvert<8,>=6.4.5->voila) (2.11.2)\n",
      "Requirement already satisfied: beautifulsoup4 in c:\\users\\fcbsa\\anaconda3\\lib\\site-packages (from nbconvert<8,>=6.4.5->voila) (4.11.1)\n",
      "Requirement already satisfied: pandocfilters>=1.4.1 in c:\\users\\fcbsa\\anaconda3\\lib\\site-packages (from nbconvert<8,>=6.4.5->voila) (1.5.0)\n",
      "Requirement already satisfied: tinycss2 in c:\\users\\fcbsa\\anaconda3\\lib\\site-packages (from nbconvert<8,>=6.4.5->voila) (1.2.1)\n",
      "Requirement already satisfied: defusedxml in c:\\users\\fcbsa\\anaconda3\\lib\\site-packages (from nbconvert<8,>=6.4.5->voila) (0.7.1)\n",
      "Requirement already satisfied: webencodings in c:\\users\\fcbsa\\anaconda3\\lib\\site-packages (from bleach!=5.0.0->nbconvert<8,>=6.4.5->voila) (0.5.1)\n",
      "Requirement already satisfied: six>=1.9.0 in c:\\users\\fcbsa\\anaconda3\\lib\\site-packages (from bleach!=5.0.0->nbconvert<8,>=6.4.5->voila) (1.16.0)\n",
      "Requirement already satisfied: fastjsonschema in c:\\users\\fcbsa\\anaconda3\\lib\\site-packages (from nbformat>=5.2.0->jupyter-server<3,>=1.18->voila) (2.15.1)\n",
      "Requirement already satisfied: argon2-cffi-bindings in c:\\users\\fcbsa\\anaconda3\\lib\\site-packages (from argon2-cffi->jupyter-server<3,>=1.18->voila) (21.2.0)\n",
      "Requirement already satisfied: cffi>=1.0.1 in c:\\users\\fcbsa\\anaconda3\\lib\\site-packages (from argon2-cffi-bindings->argon2-cffi->jupyter-server<3,>=1.18->voila) (1.15.0)\n",
      "Requirement already satisfied: pycparser in c:\\users\\fcbsa\\anaconda3\\lib\\site-packages (from cffi>=1.0.1->argon2-cffi-bindings->argon2-cffi->jupyter-server<3,>=1.18->voila) (2.21)\n",
      "Requirement already satisfied: pytz>=2015.7 in c:\\users\\fcbsa\\anaconda3\\lib\\site-packages (from babel->jupyterlab-server<3,>=2.3.0->voila) (2021.3)\n",
      "Requirement already satisfied: soupsieve>1.2 in c:\\users\\fcbsa\\anaconda3\\lib\\site-packages (from beautifulsoup4->nbconvert<8,>=6.4.5->voila) (2.3.1)\n",
      "Requirement already satisfied: pyparsing!=3.0.5,>=2.0.2 in c:\\users\\fcbsa\\anaconda3\\lib\\site-packages (from packaging->jupyter-server<3,>=1.18->voila) (3.0.4)\n",
      "Requirement already satisfied: charset-normalizer~=2.0.0 in c:\\users\\fcbsa\\anaconda3\\lib\\site-packages (from requests->jupyterlab-server<3,>=2.3.0->voila) (2.0.4)\n",
      "Requirement already satisfied: urllib3<1.27,>=1.21.1 in c:\\users\\fcbsa\\anaconda3\\lib\\site-packages (from requests->jupyterlab-server<3,>=2.3.0->voila) (1.26.9)\n",
      "Requirement already satisfied: certifi>=2017.4.17 in c:\\users\\fcbsa\\anaconda3\\lib\\site-packages (from requests->jupyterlab-server<3,>=2.3.0->voila) (2021.10.8)\n"
     ]
    },
    {
     "name": "stderr",
     "output_type": "stream",
     "text": [
      "Enabling: voila\n",
      "- Writing config: C:\\Users\\fcbsa\\anaconda3\\etc\\jupyter\n",
      "    - Validating...\n",
      "      voila 0.4.3 ok\n"
     ]
    }
   ],
   "source": [
    "#hide\n",
    "!pip install voila\n",
    "!jupyter serverextension enable --sys-prefix voila"
   ]
  },
  {
   "cell_type": "code",
   "execution_count": null,
   "id": "6bc8a559",
   "metadata": {},
   "outputs": [],
   "source": []
  }
 ],
 "metadata": {
  "kernelspec": {
   "display_name": "Python 3 (ipykernel)",
   "language": "python",
   "name": "python3"
  },
  "language_info": {
   "codemirror_mode": {
    "name": "ipython",
    "version": 3
   },
   "file_extension": ".py",
   "mimetype": "text/x-python",
   "name": "python",
   "nbconvert_exporter": "python",
   "pygments_lexer": "ipython3",
   "version": "3.9.12"
  }
 },
 "nbformat": 4,
 "nbformat_minor": 5
}
